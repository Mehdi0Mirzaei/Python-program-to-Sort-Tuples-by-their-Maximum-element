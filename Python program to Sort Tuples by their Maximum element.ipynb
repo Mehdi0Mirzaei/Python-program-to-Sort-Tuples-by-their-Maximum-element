{
 "cells": [
  {
   "cell_type": "code",
   "execution_count": 8,
   "id": "13e9382e",
   "metadata": {},
   "outputs": [
    {
     "name": "stdout",
     "output_type": "stream",
     "text": [
      "The original list is : [(4, 5, 5, 7), (1, 3, 7, 4), (19, 4, 5, 3), (1, 2)]\n",
      "Sorted Tuples : [(19, 4, 5, 3), (4, 5, 5, 7), (1, 3, 7, 4), (1, 2)]\n"
     ]
    }
   ],
   "source": [
    "def get_max(sub):\n",
    "    return max(sub)\n",
    " \n",
    "# initializing list\n",
    "test_list = [(4, 5, 5, 7), (1, 3, 7, 4), (19, 4, 5, 3), (1, 2)]\n",
    " \n",
    "# printing original list\n",
    "print(\"The original list is : \" + str(test_list))\n",
    " \n",
    "# sort() is used to get sorted result\n",
    "# reverse for sorting by max - first element's tuples\n",
    "test_list.sort(key = get_max, reverse = True)\n",
    " \n",
    "# printing result \n",
    "print(\"Sorted Tuples : \" + str(test_list))"
   ]
  },
  {
   "cell_type": "code",
   "execution_count": 9,
   "id": "7c29ff10",
   "metadata": {},
   "outputs": [
    {
     "name": "stdout",
     "output_type": "stream",
     "text": [
      "The original list is : [(4, 5, 5, 7), (1, 3, 7, 4), (19, 4, 5, 3), (1, 2)]\n",
      "Sorted Tuples : [(19, 4, 5, 3), (4, 5, 5, 7), (1, 3, 7, 4), (1, 2)]\n"
     ]
    }
   ],
   "source": [
    "# initializing list\n",
    "test_list = [(4, 5, 5, 7), (1, 3, 7, 4), (19, 4, 5, 3), (1, 2)]\n",
    " \n",
    "# printing original list\n",
    "print(\"The original list is : \" + str(test_list))\n",
    " \n",
    "# lambda function getting maximum elements \n",
    "# reverse for sorting by max - first element's tuples\n",
    "test_list.sort(key = lambda sub : max(sub), reverse = True)\n",
    " \n",
    "# printing result \n",
    "print(\"Sorted Tuples : \" + str(test_list))"
   ]
  },
  {
   "cell_type": "code",
   "execution_count": 10,
   "id": "3f02526e",
   "metadata": {},
   "outputs": [
    {
     "name": "stdout",
     "output_type": "stream",
     "text": [
      "The original list is : [(4, 5, 5, 7), (1, 3, 7, 4), (19, 4, 5, 3), (1, 2)]\n",
      "Sorted Tuples : [(19, 4, 5, 3), (4, 5, 5, 7), (1, 3, 7, 4), (1, 2)]\n"
     ]
    }
   ],
   "source": [
    "# initializing list\n",
    "test_list = [(4, 5, 5, 7), (1, 3, 7, 4), (19, 4, 5, 3), (1, 2)]\n",
    " \n",
    "# printing original list\n",
    "print(\"The original list is : \" + str(test_list))\n",
    " \n",
    "# using a loop to find the maximum element and sort based on it\n",
    "sorted_list = []\n",
    "max_val = 0\n",
    "for tup in test_list:\n",
    "    max_val = max(tup)\n",
    "    sorted_list.append((tup, max_val))\n",
    "sorted_list.sort(key=lambda x: x[1], reverse=True)\n",
    "final_list = [tup[0] for tup in sorted_list]\n",
    " \n",
    "# printing result\n",
    "print(\"Sorted Tuples : \" + str(final_list))"
   ]
  },
  {
   "cell_type": "code",
   "execution_count": 11,
   "id": "2ca1ef12",
   "metadata": {},
   "outputs": [
    {
     "name": "stdout",
     "output_type": "stream",
     "text": [
      "The original list is : [(4, 5, 5, 7), (1, 3, 7, 4), (19, 4, 5, 3), (1, 2)]\n",
      "Sorted Tuples : [(19, 4, 5, 3), (4, 5, 5, 7), (1, 3, 7, 4), (1, 2)]\n"
     ]
    }
   ],
   "source": [
    "import heapq\n",
    " \n",
    "# initializing list\n",
    "test_list = [(4, 5, 5, 7), (1, 3, 7, 4), (19, 4, 5, 3), (1, 2)]\n",
    " \n",
    "# printing original list\n",
    "print(\"The original list is : \" + str(test_list))\n",
    " \n",
    "# using heapq to find the maximum element and sort based on it\n",
    "max_values = []\n",
    "for tup in test_list:\n",
    "    max_values.append(heapq.nlargest(1, tup)[0])\n",
    "new_list = list(zip(test_list, max_values))\n",
    "sorted_list = sorted(new_list, key=lambda x: x[1], reverse=True)\n",
    "final_list = [tup[0] for tup in sorted_list]\n",
    " \n",
    "# printing result\n",
    "print(\"Sorted Tuples : \" + str(final_list))"
   ]
  },
  {
   "cell_type": "code",
   "execution_count": null,
   "id": "d57622dd",
   "metadata": {},
   "outputs": [],
   "source": []
  }
 ],
 "metadata": {
  "kernelspec": {
   "display_name": "Python 3 (ipykernel)",
   "language": "python",
   "name": "python3"
  },
  "language_info": {
   "codemirror_mode": {
    "name": "ipython",
    "version": 3
   },
   "file_extension": ".py",
   "mimetype": "text/x-python",
   "name": "python",
   "nbconvert_exporter": "python",
   "pygments_lexer": "ipython3",
   "version": "3.9.13"
  }
 },
 "nbformat": 4,
 "nbformat_minor": 5
}
